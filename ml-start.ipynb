{
 "cells": [
  {
   "cell_type": "markdown",
   "metadata": {},
   "source": [
    "# machine learning\n",
    "\n",
    "Starting point for ml question"
   ]
  },
  {
   "cell_type": "code",
   "execution_count": 3,
   "metadata": {},
   "outputs": [],
   "source": [
    "# initial inputs\n",
    "import numpy as np\n",
    "import pandas as pd\n",
    "import seaborn as sns\n",
    "import matplotlib.pyplot as plt\n",
    "\n",
    "# random state for reproducible results\n",
    "random_state = 42"
   ]
  },
  {
   "cell_type": "markdown",
   "metadata": {},
   "source": [
    "## data analysis\n",
    "\n",
    "read and analyze data"
   ]
  },
  {
   "cell_type": "markdown",
   "metadata": {},
   "source": [
    "read in dataframe"
   ]
  },
  {
   "cell_type": "code",
   "execution_count": 4,
   "metadata": {},
   "outputs": [
    {
     "data": {
      "text/html": [
       "<div>\n",
       "<style scoped>\n",
       "    .dataframe tbody tr th:only-of-type {\n",
       "        vertical-align: middle;\n",
       "    }\n",
       "\n",
       "    .dataframe tbody tr th {\n",
       "        vertical-align: top;\n",
       "    }\n",
       "\n",
       "    .dataframe thead th {\n",
       "        text-align: right;\n",
       "    }\n",
       "</style>\n",
       "<table border=\"1\" class=\"dataframe\">\n",
       "  <thead>\n",
       "    <tr style=\"text-align: right;\">\n",
       "      <th></th>\n",
       "      <th>label</th>\n",
       "      <th>topic_1</th>\n",
       "      <th>topic_2</th>\n",
       "      <th>topic_3</th>\n",
       "      <th>topic_4</th>\n",
       "      <th>topic_5</th>\n",
       "      <th>topic_6</th>\n",
       "      <th>topic_7</th>\n",
       "      <th>topic_8</th>\n",
       "      <th>topic_9</th>\n",
       "      <th>...</th>\n",
       "      <th>topic_22</th>\n",
       "      <th>topic_23</th>\n",
       "      <th>topic_24</th>\n",
       "      <th>topic_25</th>\n",
       "      <th>open</th>\n",
       "      <th>high</th>\n",
       "      <th>low</th>\n",
       "      <th>close</th>\n",
       "      <th>volume</th>\n",
       "      <th>adj close</th>\n",
       "    </tr>\n",
       "    <tr>\n",
       "      <th>Date</th>\n",
       "      <th></th>\n",
       "      <th></th>\n",
       "      <th></th>\n",
       "      <th></th>\n",
       "      <th></th>\n",
       "      <th></th>\n",
       "      <th></th>\n",
       "      <th></th>\n",
       "      <th></th>\n",
       "      <th></th>\n",
       "      <th></th>\n",
       "      <th></th>\n",
       "      <th></th>\n",
       "      <th></th>\n",
       "      <th></th>\n",
       "      <th></th>\n",
       "      <th></th>\n",
       "      <th></th>\n",
       "      <th></th>\n",
       "      <th></th>\n",
       "      <th></th>\n",
       "    </tr>\n",
       "  </thead>\n",
       "  <tbody>\n",
       "    <tr>\n",
       "      <th>2009-07-22</th>\n",
       "      <td>0</td>\n",
       "      <td>Israeli cell phone ad shows friendly game of I...</td>\n",
       "      <td>Chevron getting hit with $27B fine for destroy...</td>\n",
       "      <td>Human rights activist Natalia Estemirova was t...</td>\n",
       "      <td>Israel cuts 1948 'catastrophe' from Arabic tex...</td>\n",
       "      <td>Darkness envelops Asia during total eclipse'</td>\n",
       "      <td>Amnesty: Saudi Arabia is holding more than 3,0...</td>\n",
       "      <td>Because of ethnocentric Israeli land ownership...</td>\n",
       "      <td>Amnesty International has strongly criticised ...</td>\n",
       "      <td>France has summoned the Israeli ambassador in ...</td>\n",
       "      <td>...</td>\n",
       "      <td>They want to turn these guys into assassins, a...</td>\n",
       "      <td>Clinton urges irreversible steps from N. Korea...</td>\n",
       "      <td>Ahmadinejad creating a rift with Supreme Leade...</td>\n",
       "      <td>Study: Mexican immigration to U.S. drops '</td>\n",
       "      <td>8912.389648</td>\n",
       "      <td>8949.799805</td>\n",
       "      <td>8860.320312</td>\n",
       "      <td>8881.259766</td>\n",
       "      <td>199010000</td>\n",
       "      <td>8881.259766</td>\n",
       "    </tr>\n",
       "    <tr>\n",
       "      <th>2009-07-23</th>\n",
       "      <td>1</td>\n",
       "      <td>New Jersey mayors and rabbis arrested for invo...</td>\n",
       "      <td>South Korean unions prepare for general strike...</td>\n",
       "      <td>Four-year-old Samar Abed Rabbu was paralyzed a...</td>\n",
       "      <td>Swine flu:  Country by Country'</td>\n",
       "      <td>One cleric's legacy of peace</td>\n",
       "      <td>Dutch return severed head of Ghana chief'</td>\n",
       "      <td>The new Nepalese government has announced its ...</td>\n",
       "      <td>Iceland submits EU membership bid'</td>\n",
       "      <td>Israel on 'collision course' with Washington -...</td>\n",
       "      <td>...</td>\n",
       "      <td>Murders, rapes and major internal displacement...</td>\n",
       "      <td>12 Israelis nabbed for US lottery fraud'</td>\n",
       "      <td>Big turnout expected in hotly contested Iraqi ...</td>\n",
       "      <td>About 100,000 people caught swine flu in Engla...</td>\n",
       "      <td>8882.309570</td>\n",
       "      <td>9096.719727</td>\n",
       "      <td>8866.440430</td>\n",
       "      <td>9069.290039</td>\n",
       "      <td>274760000</td>\n",
       "      <td>9069.290039</td>\n",
       "    </tr>\n",
       "    <tr>\n",
       "      <th>2009-07-24</th>\n",
       "      <td>1</td>\n",
       "      <td>26/11 Mumbai Attacks - Documentary footage wit...</td>\n",
       "      <td>Blind rescue dog has 'guide dog'</td>\n",
       "      <td>Netanyahu, battling Obama, says that everyone ...</td>\n",
       "      <td>North Korea accused of testing biological / ch...</td>\n",
       "      <td>WikiLeaks victorious over corruption report ga...</td>\n",
       "      <td>Archaeologists have found five well-preserved ...</td>\n",
       "      <td>One of the incriminating tapes of Italy's PM S...</td>\n",
       "      <td>Two new Mozart works discovered by foundation'</td>\n",
       "      <td>Russian telecom executives testify that Skype,...</td>\n",
       "      <td>...</td>\n",
       "      <td>Iceland formally applies for EU membership, ho...</td>\n",
       "      <td>Drug-Dealing for Jesus: Mexico's Evangelical N...</td>\n",
       "      <td>After Israel's housing minister called on Jews...</td>\n",
       "      <td>Female police hottie named Alison Minards had ...</td>\n",
       "      <td>9066.110352</td>\n",
       "      <td>9100.879883</td>\n",
       "      <td>9007.389648</td>\n",
       "      <td>9093.240234</td>\n",
       "      <td>214310000</td>\n",
       "      <td>9093.240234</td>\n",
       "    </tr>\n",
       "    <tr>\n",
       "      <th>2009-07-27</th>\n",
       "      <td>1</td>\n",
       "      <td>To fool the parents of the victims, the childr...</td>\n",
       "      <td>After being kidnapped at the age of 16 by a gr...</td>\n",
       "      <td>The future Iran. The protest continues and the...</td>\n",
       "      <td>Private steel manufacturer in China decides to...</td>\n",
       "      <td>An African nation of 3 million people successf...</td>\n",
       "      <td>The Death of Handwriting'</td>\n",
       "      <td>Rabbi Rosenbaum was the US broker for an inter...</td>\n",
       "      <td>College degrees/grades are stolen and sold to ...</td>\n",
       "      <td>The limits of freedom: In theory we are free t...</td>\n",
       "      <td>...</td>\n",
       "      <td>Oh the irony: Jews protest Arab construction i...</td>\n",
       "      <td>Russian Serious With Action Against Convicted ...</td>\n",
       "      <td>One Sixth of Humanity Is Hungry - UN'</td>\n",
       "      <td>Skype singled out as threat to Russia's securityn</td>\n",
       "      <td>9093.089844</td>\n",
       "      <td>9123.400391</td>\n",
       "      <td>9034.519531</td>\n",
       "      <td>9108.509766</td>\n",
       "      <td>176830000</td>\n",
       "      <td>9108.509766</td>\n",
       "    </tr>\n",
       "    <tr>\n",
       "      <th>2009-07-28</th>\n",
       "      <td>0</td>\n",
       "      <td>British police wants DNA database of everyone ...</td>\n",
       "      <td>The lives of women are secondary: in Nicaragua...</td>\n",
       "      <td>For the first time in its history British Army...</td>\n",
       "      <td>Greece prevented it from joining the United Na...</td>\n",
       "      <td>17 year old girl given life sentence in Canada...</td>\n",
       "      <td>FOXNews: Egypt annexes Iraq'</td>\n",
       "      <td>Female British police issued headscarves, so a...</td>\n",
       "      <td>Nigerian Taliban kill 200 since Sunday in thei...</td>\n",
       "      <td>German brothels learn something from all-you-c...</td>\n",
       "      <td>...</td>\n",
       "      <td>A father and his two sons who made up to 7m fr...</td>\n",
       "      <td>The Pirate Bay gets sued. Again.'</td>\n",
       "      <td>Cheesemakers in space flight bid'</td>\n",
       "      <td>Iran's Ayatollah Ali Khamenei has ordered the ...</td>\n",
       "      <td>9106.919922</td>\n",
       "      <td>9124.910156</td>\n",
       "      <td>9007.469727</td>\n",
       "      <td>9096.719727</td>\n",
       "      <td>198270000</td>\n",
       "      <td>9096.719727</td>\n",
       "    </tr>\n",
       "  </tbody>\n",
       "</table>\n",
       "<p>5 rows × 32 columns</p>\n",
       "</div>"
      ],
      "text/plain": [
       "            label                                            topic_1  \\\n",
       "Date                                                                   \n",
       "2009-07-22      0  Israeli cell phone ad shows friendly game of I...   \n",
       "2009-07-23      1  New Jersey mayors and rabbis arrested for invo...   \n",
       "2009-07-24      1  26/11 Mumbai Attacks - Documentary footage wit...   \n",
       "2009-07-27      1  To fool the parents of the victims, the childr...   \n",
       "2009-07-28      0  British police wants DNA database of everyone ...   \n",
       "\n",
       "                                                      topic_2  \\\n",
       "Date                                                            \n",
       "2009-07-22  Chevron getting hit with $27B fine for destroy...   \n",
       "2009-07-23  South Korean unions prepare for general strike...   \n",
       "2009-07-24                   Blind rescue dog has 'guide dog'   \n",
       "2009-07-27  After being kidnapped at the age of 16 by a gr...   \n",
       "2009-07-28  The lives of women are secondary: in Nicaragua...   \n",
       "\n",
       "                                                      topic_3  \\\n",
       "Date                                                            \n",
       "2009-07-22  Human rights activist Natalia Estemirova was t...   \n",
       "2009-07-23  Four-year-old Samar Abed Rabbu was paralyzed a...   \n",
       "2009-07-24  Netanyahu, battling Obama, says that everyone ...   \n",
       "2009-07-27  The future Iran. The protest continues and the...   \n",
       "2009-07-28  For the first time in its history British Army...   \n",
       "\n",
       "                                                      topic_4  \\\n",
       "Date                                                            \n",
       "2009-07-22  Israel cuts 1948 'catastrophe' from Arabic tex...   \n",
       "2009-07-23                    Swine flu:  Country by Country'   \n",
       "2009-07-24  North Korea accused of testing biological / ch...   \n",
       "2009-07-27  Private steel manufacturer in China decides to...   \n",
       "2009-07-28  Greece prevented it from joining the United Na...   \n",
       "\n",
       "                                                      topic_5  \\\n",
       "Date                                                            \n",
       "2009-07-22       Darkness envelops Asia during total eclipse'   \n",
       "2009-07-23                       One cleric's legacy of peace   \n",
       "2009-07-24  WikiLeaks victorious over corruption report ga...   \n",
       "2009-07-27  An African nation of 3 million people successf...   \n",
       "2009-07-28  17 year old girl given life sentence in Canada...   \n",
       "\n",
       "                                                      topic_6  \\\n",
       "Date                                                            \n",
       "2009-07-22  Amnesty: Saudi Arabia is holding more than 3,0...   \n",
       "2009-07-23          Dutch return severed head of Ghana chief'   \n",
       "2009-07-24  Archaeologists have found five well-preserved ...   \n",
       "2009-07-27                          The Death of Handwriting'   \n",
       "2009-07-28                       FOXNews: Egypt annexes Iraq'   \n",
       "\n",
       "                                                      topic_7  \\\n",
       "Date                                                            \n",
       "2009-07-22  Because of ethnocentric Israeli land ownership...   \n",
       "2009-07-23  The new Nepalese government has announced its ...   \n",
       "2009-07-24  One of the incriminating tapes of Italy's PM S...   \n",
       "2009-07-27  Rabbi Rosenbaum was the US broker for an inter...   \n",
       "2009-07-28  Female British police issued headscarves, so a...   \n",
       "\n",
       "                                                      topic_8  \\\n",
       "Date                                                            \n",
       "2009-07-22  Amnesty International has strongly criticised ...   \n",
       "2009-07-23                 Iceland submits EU membership bid'   \n",
       "2009-07-24     Two new Mozart works discovered by foundation'   \n",
       "2009-07-27  College degrees/grades are stolen and sold to ...   \n",
       "2009-07-28  Nigerian Taliban kill 200 since Sunday in thei...   \n",
       "\n",
       "                                                      topic_9  ...  \\\n",
       "Date                                                           ...   \n",
       "2009-07-22  France has summoned the Israeli ambassador in ...  ...   \n",
       "2009-07-23  Israel on 'collision course' with Washington -...  ...   \n",
       "2009-07-24  Russian telecom executives testify that Skype,...  ...   \n",
       "2009-07-27  The limits of freedom: In theory we are free t...  ...   \n",
       "2009-07-28  German brothels learn something from all-you-c...  ...   \n",
       "\n",
       "                                                     topic_22  \\\n",
       "Date                                                            \n",
       "2009-07-22  They want to turn these guys into assassins, a...   \n",
       "2009-07-23  Murders, rapes and major internal displacement...   \n",
       "2009-07-24  Iceland formally applies for EU membership, ho...   \n",
       "2009-07-27  Oh the irony: Jews protest Arab construction i...   \n",
       "2009-07-28  A father and his two sons who made up to 7m fr...   \n",
       "\n",
       "                                                     topic_23  \\\n",
       "Date                                                            \n",
       "2009-07-22  Clinton urges irreversible steps from N. Korea...   \n",
       "2009-07-23           12 Israelis nabbed for US lottery fraud'   \n",
       "2009-07-24  Drug-Dealing for Jesus: Mexico's Evangelical N...   \n",
       "2009-07-27  Russian Serious With Action Against Convicted ...   \n",
       "2009-07-28                  The Pirate Bay gets sued. Again.'   \n",
       "\n",
       "                                                     topic_24  \\\n",
       "Date                                                            \n",
       "2009-07-22  Ahmadinejad creating a rift with Supreme Leade...   \n",
       "2009-07-23  Big turnout expected in hotly contested Iraqi ...   \n",
       "2009-07-24  After Israel's housing minister called on Jews...   \n",
       "2009-07-27              One Sixth of Humanity Is Hungry - UN'   \n",
       "2009-07-28                  Cheesemakers in space flight bid'   \n",
       "\n",
       "                                                     topic_25         open  \\\n",
       "Date                                                                         \n",
       "2009-07-22         Study: Mexican immigration to U.S. drops '  8912.389648   \n",
       "2009-07-23  About 100,000 people caught swine flu in Engla...  8882.309570   \n",
       "2009-07-24  Female police hottie named Alison Minards had ...  9066.110352   \n",
       "2009-07-27  Skype singled out as threat to Russia's securityn  9093.089844   \n",
       "2009-07-28  Iran's Ayatollah Ali Khamenei has ordered the ...  9106.919922   \n",
       "\n",
       "                   high          low        close     volume    adj close  \n",
       "Date                                                                       \n",
       "2009-07-22  8949.799805  8860.320312  8881.259766  199010000  8881.259766  \n",
       "2009-07-23  9096.719727  8866.440430  9069.290039  274760000  9069.290039  \n",
       "2009-07-24  9100.879883  9007.389648  9093.240234  214310000  9093.240234  \n",
       "2009-07-27  9123.400391  9034.519531  9108.509766  176830000  9108.509766  \n",
       "2009-07-28  9124.910156  9007.469727  9096.719727  198270000  9096.719727  \n",
       "\n",
       "[5 rows x 32 columns]"
      ]
     },
     "execution_count": 4,
     "metadata": {},
     "output_type": "execute_result"
    }
   ],
   "source": [
    "orig_df = pd.read_csv('./news_market_data.csv', index_col=\"Date\")\n",
    "orig_df.head()"
   ]
  },
  {
   "cell_type": "markdown",
   "metadata": {},
   "source": [
    "shape of overall dataframe"
   ]
  },
  {
   "cell_type": "code",
   "execution_count": 5,
   "metadata": {},
   "outputs": [
    {
     "name": "stdout",
     "output_type": "stream",
     "text": [
      "shape: (1000, 32)\n"
     ]
    }
   ],
   "source": [
    "print(f'shape: {orig_df.shape}')"
   ]
  },
  {
   "cell_type": "markdown",
   "metadata": {},
   "source": [
    "get correlation matrix"
   ]
  },
  {
   "cell_type": "code",
   "execution_count": 6,
   "metadata": {},
   "outputs": [
    {
     "data": {
      "image/png": "[encoded data removed]",
      "text/plain": [
       "<Figure size 792x648 with 2 Axes>"
      ]
     },
     "metadata": {
      "needs_background": "light"
     },
     "output_type": "display_data"
    }
   ],
   "source": [
    "corr = orig_df.corr()\n",
    "# Generate a mask for the upper triangle\n",
    "mask = np.triu(np.ones_like(corr, dtype=bool))\n",
    "\n",
    "# Set up the matplotlib figure\n",
    "f, ax = plt.subplots(figsize=(11, 9))\n",
    "\n",
    "# Generate a custom diverging colormap\n",
    "cmap = sns.diverging_palette(230, 20, as_cmap=True)\n",
    "\n",
    "# Draw the heatmap with the mask and correct aspect ratio\n",
    "sns.heatmap(corr, mask=mask, cmap=cmap, vmax=.3, center=0,\n",
    "            square=True, linewidths=.5, cbar_kws={\"shrink\": .5})\n",
    "plt.show()"
   ]
  },
  {
   "cell_type": "markdown",
   "metadata": {},
   "source": [
    "scatter and density plots"
   ]
  },
  {
   "cell_type": "code",
   "execution_count": 7,
   "metadata": {},
   "outputs": [
    {
     "data": {
      "image/png": "[encoded data removed]",
      "text/plain": [
       "<Figure size 432x288 with 49 Axes>"
      ]
     },
     "metadata": {
      "needs_background": "light"
     },
     "output_type": "display_data"
    }
   ],
   "source": [
    "pd.plotting.scatter_matrix(orig_df, alpha=0.2)\n",
    "plt.show()"
   ]
  },
  {
   "cell_type": "markdown",
   "metadata": {},
   "source": [
    "## data cleaning\n",
    "\n",
    "pre-process input data"
   ]
  },
  {
   "cell_type": "markdown",
   "metadata": {},
   "source": [
    "create new dataframe with combined input sentences (for training)"
   ]
  },
  {
   "cell_type": "code",
   "execution_count": 8,
   "metadata": {},
   "outputs": [
    {
     "name": "stdout",
     "output_type": "stream",
     "text": [
      "['topic_1', 'topic_2', 'topic_3', 'topic_4', 'topic_5', 'topic_6', 'topic_7', 'topic_8', 'topic_9', 'topic_10', 'topic_11', 'topic_12', 'topic_13', 'topic_14', 'topic_15', 'topic_16', 'topic_17', 'topic_18', 'topic_19', 'topic_20', 'topic_21', 'topic_22', 'topic_23', 'topic_24', 'topic_25']\n"
     ]
    },
    {
     "data": {
      "text/html": [
       "<div>\n",
       "<style scoped>\n",
       "    .dataframe tbody tr th:only-of-type {\n",
       "        vertical-align: middle;\n",
       "    }\n",
       "\n",
       "    .dataframe tbody tr th {\n",
       "        vertical-align: top;\n",
       "    }\n",
       "\n",
       "    .dataframe thead th {\n",
       "        text-align: right;\n",
       "    }\n",
       "</style>\n",
       "<table border=\"1\" class=\"dataframe\">\n",
       "  <thead>\n",
       "    <tr style=\"text-align: right;\">\n",
       "      <th></th>\n",
       "      <th>label</th>\n",
       "      <th>open</th>\n",
       "      <th>high</th>\n",
       "      <th>low</th>\n",
       "      <th>close</th>\n",
       "      <th>volume</th>\n",
       "      <th>adj close</th>\n",
       "      <th>combined</th>\n",
       "    </tr>\n",
       "    <tr>\n",
       "      <th>Date</th>\n",
       "      <th></th>\n",
       "      <th></th>\n",
       "      <th></th>\n",
       "      <th></th>\n",
       "      <th></th>\n",
       "      <th></th>\n",
       "      <th></th>\n",
       "      <th></th>\n",
       "    </tr>\n",
       "  </thead>\n",
       "  <tbody>\n",
       "    <tr>\n",
       "      <th>2009-07-22</th>\n",
       "      <td>0</td>\n",
       "      <td>8912.389648</td>\n",
       "      <td>8949.799805</td>\n",
       "      <td>8860.320312</td>\n",
       "      <td>8881.259766</td>\n",
       "      <td>199010000</td>\n",
       "      <td>8881.259766</td>\n",
       "      <td>Israeli cell phone ad shows friendly game of I...</td>\n",
       "    </tr>\n",
       "    <tr>\n",
       "      <th>2009-07-23</th>\n",
       "      <td>1</td>\n",
       "      <td>8882.309570</td>\n",
       "      <td>9096.719727</td>\n",
       "      <td>8866.440430</td>\n",
       "      <td>9069.290039</td>\n",
       "      <td>274760000</td>\n",
       "      <td>9069.290039</td>\n",
       "      <td>New Jersey mayors and rabbis arrested for invo...</td>\n",
       "    </tr>\n",
       "  </tbody>\n",
       "</table>\n",
       "</div>"
      ],
      "text/plain": [
       "            label         open         high          low        close  \\\n",
       "Date                                                                    \n",
       "2009-07-22      0  8912.389648  8949.799805  8860.320312  8881.259766   \n",
       "2009-07-23      1  8882.309570  9096.719727  8866.440430  9069.290039   \n",
       "\n",
       "               volume    adj close  \\\n",
       "Date                                 \n",
       "2009-07-22  199010000  8881.259766   \n",
       "2009-07-23  274760000  9069.290039   \n",
       "\n",
       "                                                     combined  \n",
       "Date                                                           \n",
       "2009-07-22  Israeli cell phone ad shows friendly game of I...  \n",
       "2009-07-23  New Jersey mayors and rabbis arrested for invo...  "
      ]
     },
     "execution_count": 8,
     "metadata": {},
     "output_type": "execute_result"
    }
   ],
   "source": [
    "text_columns = orig_df.columns[1:26]\n",
    "print(text_columns.tolist())\n",
    "combined_sentences_df = orig_df.drop(columns=text_columns).join(\n",
    "    pd.DataFrame(orig_df[text_columns].apply(lambda data:' '.join(data.values.astype(str)), axis=1), columns=['combined'])\n",
    ")\n",
    "combined_sentences_df.head(2)"
   ]
  },
  {
   "cell_type": "markdown",
   "metadata": {},
   "source": [
    "remove stopwords. stopwords are words like “he”, “the”, “is”, which are not very informative in representing the cinformation in a given sentence (and therefore should be avoided)."
   ]
  },
  {
   "cell_type": "code",
   "execution_count": 9,
   "metadata": {},
   "outputs": [
    {
     "name": "stdout",
     "output_type": "stream",
     "text": [
      "['my', 'myself', 'we']\n"
     ]
    },
    {
     "name": "stderr",
     "output_type": "stream",
     "text": [
      "[nltk_data] Downloading package stopwords to /home/joshua/nltk_data...\n",
      "[nltk_data]   Package stopwords is already up-to-date!\n"
     ]
    }
   ],
   "source": [
    "import nltk\n",
    "nltk.download('stopwords')\n",
    "print(nltk.corpus.stopwords.words('english')[2:5])"
   ]
  },
  {
   "cell_type": "code",
   "execution_count": 10,
   "metadata": {},
   "outputs": [],
   "source": [
    "from string import punctuation\n",
    "\n",
    "def clean_str(data: str):\n",
    "    \"\"\"\n",
    "    remove punctuation in given sentence\n",
    "    \"\"\"\n",
    "    remove_punctuation = [ch for ch in data if ch not in punctuation]\n",
    "    # convert back to sentences, split to words\n",
    "    remove_punctuation = ''.join(remove_punctuation).split()\n",
    "    filtered_words = [word.lower() for word in remove_punctuation if word.lower() not in nltk.corpus.stopwords.words('english')]\n",
    "    return ' '.join(filtered_words)"
   ]
  },
  {
   "cell_type": "markdown",
   "metadata": {},
   "source": [
    "create df with combined sentences"
   ]
  },
  {
   "cell_type": "code",
   "execution_count": 11,
   "metadata": {},
   "outputs": [],
   "source": [
    "clean_df = combined_sentences_df.copy()\n",
    "clean_df.loc[:, 'combined'] = clean_df['combined'].apply(clean_str)"
   ]
  },
  {
   "cell_type": "markdown",
   "metadata": {},
   "source": [
    "create training and testing data"
   ]
  },
  {
   "cell_type": "code",
   "execution_count": 12,
   "metadata": {},
   "outputs": [
    {
     "name": "stdout",
     "output_type": "stream",
     "text": [
      "shape: (1000, 8)\n"
     ]
    },
    {
     "data": {
      "text/html": [
       "<div>\n",
       "<style scoped>\n",
       "    .dataframe tbody tr th:only-of-type {\n",
       "        vertical-align: middle;\n",
       "    }\n",
       "\n",
       "    .dataframe tbody tr th {\n",
       "        vertical-align: top;\n",
       "    }\n",
       "\n",
       "    .dataframe thead th {\n",
       "        text-align: right;\n",
       "    }\n",
       "</style>\n",
       "<table border=\"1\" class=\"dataframe\">\n",
       "  <thead>\n",
       "    <tr style=\"text-align: right;\">\n",
       "      <th></th>\n",
       "      <th>label</th>\n",
       "      <th>open</th>\n",
       "      <th>high</th>\n",
       "      <th>low</th>\n",
       "      <th>close</th>\n",
       "      <th>volume</th>\n",
       "      <th>adj close</th>\n",
       "      <th>combined</th>\n",
       "    </tr>\n",
       "    <tr>\n",
       "      <th>Date</th>\n",
       "      <th></th>\n",
       "      <th></th>\n",
       "      <th></th>\n",
       "      <th></th>\n",
       "      <th></th>\n",
       "      <th></th>\n",
       "      <th></th>\n",
       "      <th></th>\n",
       "    </tr>\n",
       "  </thead>\n",
       "  <tbody>\n",
       "    <tr>\n",
       "      <th>2009-07-22</th>\n",
       "      <td>0</td>\n",
       "      <td>8912.389648</td>\n",
       "      <td>8949.799805</td>\n",
       "      <td>8860.320312</td>\n",
       "      <td>8881.259766</td>\n",
       "      <td>199010000</td>\n",
       "      <td>8881.259766</td>\n",
       "      <td>israeli cell phone ad shows friendly game isra...</td>\n",
       "    </tr>\n",
       "    <tr>\n",
       "      <th>2009-07-23</th>\n",
       "      <td>1</td>\n",
       "      <td>8882.309570</td>\n",
       "      <td>9096.719727</td>\n",
       "      <td>8866.440430</td>\n",
       "      <td>9069.290039</td>\n",
       "      <td>274760000</td>\n",
       "      <td>9069.290039</td>\n",
       "      <td>new jersey mayors rabbis arrested involvement ...</td>\n",
       "    </tr>\n",
       "  </tbody>\n",
       "</table>\n",
       "</div>"
      ],
      "text/plain": [
       "            label         open         high          low        close  \\\n",
       "Date                                                                    \n",
       "2009-07-22      0  8912.389648  8949.799805  8860.320312  8881.259766   \n",
       "2009-07-23      1  8882.309570  9096.719727  8866.440430  9069.290039   \n",
       "\n",
       "               volume    adj close  \\\n",
       "Date                                 \n",
       "2009-07-22  199010000  8881.259766   \n",
       "2009-07-23  274760000  9069.290039   \n",
       "\n",
       "                                                     combined  \n",
       "Date                                                           \n",
       "2009-07-22  israeli cell phone ad shows friendly game isra...  \n",
       "2009-07-23  new jersey mayors rabbis arrested involvement ...  "
      ]
     },
     "execution_count": 12,
     "metadata": {},
     "output_type": "execute_result"
    }
   ],
   "source": [
    "print(f'shape: {clean_df.shape}')\n",
    "clean_df.head(2)"
   ]
  },
  {
   "cell_type": "code",
   "execution_count": 13,
   "metadata": {},
   "outputs": [
    {
     "data": {
      "text/plain": [
       "((800, 8), (400, 8))"
      ]
     },
     "execution_count": 13,
     "metadata": {},
     "output_type": "execute_result"
    }
   ],
   "source": [
    "train_data = clean_df.iloc[:800]\n",
    "test_data = combined_sentences_df.iloc[600:]\n",
    "train_data.shape, test_data.shape"
   ]
  },
  {
   "cell_type": "markdown",
   "metadata": {},
   "source": [
    "ngrams (vectorizing input sentences)"
   ]
  },
  {
   "cell_type": "code",
   "execution_count": 14,
   "metadata": {
    "scrolled": true
   },
   "outputs": [],
   "source": [
    "from sklearn.feature_extraction.text import CountVectorizer\n",
    "count_vectorizer = CountVectorizer(ngram_range=(2,2), max_features=100000)"
   ]
  },
  {
   "cell_type": "code",
   "execution_count": 15,
   "metadata": {},
   "outputs": [
    {
     "data": {
      "text/plain": [
       "<400x100000 sparse matrix of type '<class 'numpy.int64'>'\n",
       "\twith 41271 stored elements in Compressed Sparse Row format>"
      ]
     },
     "execution_count": 15,
     "metadata": {},
     "output_type": "execute_result"
    }
   ],
   "source": [
    "train_vectorized = count_vectorizer.fit_transform(train_data['combined'])\n",
    "test_vectorized = count_vectorizer.transform(test_data['combined'])\n",
    "test_vectorized"
   ]
  }
 ],
 "metadata": {
  "kernelspec": {
   "display_name": "Python 3",
   "language": "python",
   "name": "python3"
  },
  "language_info": {
   "codemirror_mode": {
    "name": "ipython",
    "version": 3
   },
   "file_extension": ".py",
   "mimetype": "text/x-python",
   "name": "python",
   "nbconvert_exporter": "python",
   "pygments_lexer": "ipython3",
   "version": "3.7.6"
  }
 },
 "nbformat": 4,
 "nbformat_minor": 4
}
